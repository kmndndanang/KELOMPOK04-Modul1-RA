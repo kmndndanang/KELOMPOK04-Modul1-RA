{
  "nbformat": 4,
  "nbformat_minor": 0,
  "metadata": {
    "colab": {
      "private_outputs": true,
      "provenance": [],
      "authorship_tag": "ABX9TyP/hBo2c+fHP7rM5wY2bKly",
      "include_colab_link": true
    },
    "kernelspec": {
      "name": "python3",
      "display_name": "Python 3"
    },
    "language_info": {
      "name": "python"
    }
  },
  "cells": [
    {
      "cell_type": "markdown",
      "metadata": {
        "id": "view-in-github",
        "colab_type": "text"
      },
      "source": [
        "<a href=\"https://colab.research.google.com/github/kmndndanang/KELOMPOK04-Modul1-RA/blob/main/Kelompok4_Modul3_PrakSSD.ipynb\" target=\"_parent\"><img src=\"https://colab.research.google.com/assets/colab-badge.svg\" alt=\"Open In Colab\"/></a>"
      ]
    },
    {
      "cell_type": "code",
      "source": [
        "def sieve_of_atkin(limit):\n",
        "    sieve = [False] * (limit + 1)\n",
        "\n",
        "    for x in range(1, int(limit**0.5) + 1):\n",
        "        for y in range(1, int(limit**0.5) + 1):\n",
        "            n = 4*x**2 + y**2\n",
        "            if n <= limit and (n % 12 == 1 or n % 12 == 5):\n",
        "                sieve[n] = not sieve[n]\n",
        "            n = 3*x**2 + y**2\n",
        "            if n <= limit and n % 12 == 7:\n",
        "                sieve[n] = not sieve[n]\n",
        "            if x > y:\n",
        "                n = 3*x**2 - y**2\n",
        "                if n <= limit and n % 12 == 11:\n",
        "                    sieve[n] = not sieve[n]\n",
        "\n",
        "    for n in range(5, int(limit**0.5) + 1):\n",
        "        if sieve[n]:\n",
        "            sieve[n**2::n**2] = [False] * ((limit - n**2) // n**2 + 1)\n",
        "\n",
        "    # Menghasilkan bilangan prima satu per satu menggunakan yield\n",
        "    yield 2\n",
        "    yield 3\n",
        "    for p in range(5, limit + 1):\n",
        "        if sieve[p]:\n",
        "            yield p\n",
        "\n",
        "import pandas as pd\n",
        "dataset = pd.read_csv('/content/bilangan1-500.csv')\n",
        "limit = dataset['bilangan'].max()  # 'bilangan' adalah nama variabel di dataset (bilangan1-500)\n",
        "\n",
        "primes = sieve_of_atkin(limit)\n",
        "print(\"Bilangan prima hingga batas\", limit, \"adalah:\")\n",
        "for prime in primes:\n",
        "    print(prime, end=\" \")"
      ],
      "metadata": {
        "id": "yZcGNP-YPc07"
      },
      "execution_count": null,
      "outputs": []
    }
  ]
}